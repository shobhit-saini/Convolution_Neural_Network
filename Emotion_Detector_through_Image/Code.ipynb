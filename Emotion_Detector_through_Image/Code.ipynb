{
  "nbformat": 4,
  "nbformat_minor": 0,
  "metadata": {
    "colab": {
      "name": "Emotion_Tracking.ipynb",
      "provenance": [],
      "authorship_tag": "ABX9TyOIaqYHRWLZoxaTt8pJoEy6",
      "include_colab_link": true
    },
    "kernelspec": {
      "name": "python3",
      "display_name": "Python 3"
    },
    "accelerator": "GPU"
  },
  "cells": [
    {
      "cell_type": "markdown",
      "metadata": {
        "id": "view-in-github",
        "colab_type": "text"
      },
      "source": [
        "<a href=\"https://colab.research.google.com/github/shobhit-saini/Convolution_Neural_Network/blob/master/Emotion_Detector_through_Image/Code.ipynb\" target=\"_parent\"><img src=\"https://colab.research.google.com/assets/colab-badge.svg\" alt=\"Open In Colab\"/></a>"
      ]
    },
    {
      "cell_type": "code",
      "metadata": {
        "id": "DhnRp_RjAE0C",
        "colab_type": "code",
        "colab": {}
      },
      "source": [
        "import numpy as np\n",
        "from keras import layers\n",
        "from keras.layers import Input, Dense, Activation, ZeroPadding2D, BatchNormalization, Flatten, Conv2D\n",
        "from keras.layers import AveragePooling2D, MaxPooling2D, Dropout, GlobalMaxPooling2D, GlobalAveragePooling2D\n",
        "from keras.models import Model\n",
        "from keras.preprocessing import image\n",
        "from keras.utils import layer_utils\n",
        "from keras.utils.data_utils import get_file\n",
        "from keras.applications.imagenet_utils import preprocess_input\n",
        "import pydot\n",
        "from IPython.display import SVG\n",
        "from keras.utils.vis_utils import model_to_dot\n",
        "from keras.utils import plot_model\n",
        "\n",
        "import keras.backend as K\n",
        "K.set_image_data_format('channels_last')\n",
        "import matplotlib.pyplot as plt\n",
        "from matplotlib.pyplot import imshow\n",
        "import h5py\n"
      ],
      "execution_count": 0,
      "outputs": []
    },
    {
      "cell_type": "code",
      "metadata": {
        "id": "EvgvdY9XAlqS",
        "colab_type": "code",
        "colab": {
          "base_uri": "https://localhost:8080/",
          "height": 302
        },
        "outputId": "4905d3fd-0a06-46c1-8c35-f5c03f9b17fd"
      },
      "source": [
        "def load_dataset():\n",
        "    #Train Set Dataset\n",
        "    train_dataset = h5py.File('train_happy.h5', \"r\")\n",
        "    train_set_x_orig = np.array(train_dataset[\"train_set_x\"][:]) \n",
        "    train_set_y_orig = np.array(train_dataset[\"train_set_y\"][:]) \n",
        "\n",
        "    #Test set Dataset\n",
        "    test_dataset = h5py.File('test_happy.h5', \"r\")\n",
        "    test_set_x_orig = np.array(test_dataset[\"test_set_x\"][:]) \n",
        "    test_set_y_orig = np.array(test_dataset[\"test_set_y\"][:])\n",
        "\n",
        "    \n",
        "    train_set_y_orig = train_set_y_orig.reshape((1, train_set_y_orig.shape[0]))\n",
        "    test_set_y_orig = test_set_y_orig.reshape((1, test_set_y_orig.shape[0]))\n",
        "    \n",
        "    return train_set_x_orig, train_set_y_orig, test_set_x_orig, test_set_y_orig\n",
        "\n",
        "train_set_x_orig, train_set_y_orig, test_set_x_orig, test_set_y_orig = load_dataset()\n",
        "'''\n",
        "Dims:\n",
        "train_set_x_orig:(600, 64, 64, 3)\n",
        "train_set_y_orig:(1, 600)\n",
        "test_set_x_orig:(150, 64, 64, 3)\n",
        "test_set_y_orig:(1, 150)\n",
        "'''\n",
        "plt.imshow(train_set_x_orig[0])\n",
        "print(\"Y = \",train_set_y_orig[0][0])\n",
        "if train_set_y_orig[0][0] == 0:\n",
        "  print(\"Not Happy\")\n",
        "else:\n",
        "  print(\"Happy\")"
      ],
      "execution_count": 4,
      "outputs": [
        {
          "output_type": "stream",
          "text": [
            "Y =  0\n",
            "Not Happy\n"
          ],
          "name": "stdout"
        },
        {
          "output_type": "display_data",
          "data": {
            "image/png": "[encoded data removed]",
            "text/plain": [
              "<Figure size 432x288 with 1 Axes>"
            ]
          },
          "metadata": {
            "tags": [],
            "needs_background": "light"
          }
        }
      ]
    },
    {
      "cell_type": "code",
      "metadata": {
        "id": "SV1c2UHjArba",
        "colab_type": "code",
        "colab": {}
      },
      "source": [
        "'''\n",
        "Dims:\n",
        "train_X:(600, 64, 64, 3)\n",
        "test_X:(150, 64, 64, 3)\n",
        "train_Y:(600, 1)\n",
        "test_Y:(150, 1)\n",
        "'''\n",
        "# Normalization\n",
        "train_X = train_set_x_orig/255\n",
        "test_X = test_set_x_orig/255\n",
        "\n",
        "#Reshape the output\n",
        "train_Y = train_set_y_orig.T\n",
        "test_Y = test_set_y_orig.T"
      ],
      "execution_count": 0,
      "outputs": []
    },
    {
      "cell_type": "code",
      "metadata": {
        "id": "wnmmVKc_GZob",
        "colab_type": "code",
        "colab": {}
      },
      "source": [
        "def model(Input_shape):\n",
        "  X_input = Input(Input_shape)\n",
        "\n",
        "  X = ZeroPadding2D((3,3))(X_input)\n",
        "\n",
        "  X = Conv2D(32, (7,7), strides= (1,1), name = 'conv0')(X)\n",
        "  X = BatchNormalization(axis = 3, name = 'bn0')(X)\n",
        "  X = Activation('relu')(X)\n",
        "\n",
        "  X = MaxPooling2D((2,2), name = 'MaxPool')(X)\n",
        "\n",
        "  X = Flatten()(X)\n",
        "  X = Dense(1, activation = 'sigmoid', name = 'fc')(X)\n",
        "\n",
        "  model = Model(inputs = X_input, outputs = X, name = 'Happy_Model')\n",
        "  return model\n"
      ],
      "execution_count": 0,
      "outputs": []
    },
    {
      "cell_type": "code",
      "metadata": {
        "id": "v4auHW_tMo54",
        "colab_type": "code",
        "colab": {
          "base_uri": "https://localhost:8080/",
          "height": 1000
        },
        "outputId": "920491ab-d461-456e-db9e-fa2933a63202"
      },
      "source": [
        "#Create a model\n",
        "happyModel = model(train_X.shape[1:])\n",
        "\n",
        "#Compile model\n",
        "happyModel.compile(optimizer = \"adam\", loss = \"binary_crossentropy\", metrics = [\"accuracy\"])\n",
        "\n",
        "#Train Model\n",
        "happyModel.fit(x = train_X, y = train_Y, epochs = 40, batch_size = 32)\n",
        "\n",
        "#Test Model\n",
        "preds = happyModel.evaluate(x = test_X, y = test_Y)\n",
        "print()\n",
        "print (\"Loss = \" + str(preds[0]))\n",
        "print (\"Test Accuracy = \" + str(preds[1]))"
      ],
      "execution_count": 11,
      "outputs": [
        {
          "output_type": "stream",
          "text": [
            "Epoch 1/40\n",
            "600/600 [==============================] - 0s 581us/step - loss: 0.8103 - accuracy: 0.7017\n",
            "Epoch 2/40\n",
            "600/600 [==============================] - 0s 242us/step - loss: 0.2425 - accuracy: 0.9000\n",
            "Epoch 3/40\n",
            "600/600 [==============================] - 0s 252us/step - loss: 0.1337 - accuracy: 0.9483\n",
            "Epoch 4/40\n",
            "600/600 [==============================] - 0s 265us/step - loss: 0.0924 - accuracy: 0.9750\n",
            "Epoch 5/40\n",
            "600/600 [==============================] - 0s 254us/step - loss: 0.0855 - accuracy: 0.9700\n",
            "Epoch 6/40\n",
            "600/600 [==============================] - 0s 262us/step - loss: 0.0745 - accuracy: 0.9783\n",
            "Epoch 7/40\n",
            "600/600 [==============================] - 0s 255us/step - loss: 0.0971 - accuracy: 0.9700\n",
            "Epoch 8/40\n",
            "600/600 [==============================] - 0s 263us/step - loss: 0.0715 - accuracy: 0.9783\n",
            "Epoch 9/40\n",
            "600/600 [==============================] - 0s 245us/step - loss: 0.0673 - accuracy: 0.9783\n",
            "Epoch 10/40\n",
            "600/600 [==============================] - 0s 262us/step - loss: 0.0705 - accuracy: 0.9767\n",
            "Epoch 11/40\n",
            "600/600 [==============================] - 0s 250us/step - loss: 0.0668 - accuracy: 0.9833\n",
            "Epoch 12/40\n",
            "600/600 [==============================] - 0s 259us/step - loss: 0.1019 - accuracy: 0.9633\n",
            "Epoch 13/40\n",
            "600/600 [==============================] - 0s 253us/step - loss: 0.0415 - accuracy: 0.9917\n",
            "Epoch 14/40\n",
            "600/600 [==============================] - 0s 253us/step - loss: 0.0389 - accuracy: 0.9867\n",
            "Epoch 15/40\n",
            "600/600 [==============================] - 0s 249us/step - loss: 0.0322 - accuracy: 0.9883\n",
            "Epoch 16/40\n",
            "600/600 [==============================] - 0s 251us/step - loss: 0.0336 - accuracy: 0.9917\n",
            "Epoch 17/40\n",
            "600/600 [==============================] - 0s 246us/step - loss: 0.0345 - accuracy: 0.9933\n",
            "Epoch 18/40\n",
            "600/600 [==============================] - 0s 250us/step - loss: 0.0532 - accuracy: 0.9850\n",
            "Epoch 19/40\n",
            "600/600 [==============================] - 0s 266us/step - loss: 0.0768 - accuracy: 0.9700\n",
            "Epoch 20/40\n",
            "600/600 [==============================] - 0s 244us/step - loss: 0.0328 - accuracy: 0.9900\n",
            "Epoch 21/40\n",
            "600/600 [==============================] - 0s 250us/step - loss: 0.0178 - accuracy: 0.9950\n",
            "Epoch 22/40\n",
            "600/600 [==============================] - 0s 247us/step - loss: 0.0223 - accuracy: 0.9950\n",
            "Epoch 23/40\n",
            "600/600 [==============================] - 0s 243us/step - loss: 0.0514 - accuracy: 0.9850\n",
            "Epoch 24/40\n",
            "600/600 [==============================] - 0s 244us/step - loss: 0.0631 - accuracy: 0.9750\n",
            "Epoch 25/40\n",
            "600/600 [==============================] - 0s 254us/step - loss: 0.0559 - accuracy: 0.9800\n",
            "Epoch 26/40\n",
            "600/600 [==============================] - 0s 257us/step - loss: 0.0304 - accuracy: 0.9917\n",
            "Epoch 27/40\n",
            "600/600 [==============================] - 0s 250us/step - loss: 0.0155 - accuracy: 0.9967\n",
            "Epoch 28/40\n",
            "600/600 [==============================] - 0s 254us/step - loss: 0.0105 - accuracy: 0.9983\n",
            "Epoch 29/40\n",
            "600/600 [==============================] - 0s 244us/step - loss: 0.0156 - accuracy: 0.9967\n",
            "Epoch 30/40\n",
            "600/600 [==============================] - 0s 249us/step - loss: 0.0101 - accuracy: 0.9950\n",
            "Epoch 31/40\n",
            "600/600 [==============================] - 0s 260us/step - loss: 0.0174 - accuracy: 0.9917\n",
            "Epoch 32/40\n",
            "600/600 [==============================] - 0s 260us/step - loss: 0.0194 - accuracy: 0.9950\n",
            "Epoch 33/40\n",
            "600/600 [==============================] - 0s 246us/step - loss: 0.0101 - accuracy: 0.9967\n",
            "Epoch 34/40\n",
            "600/600 [==============================] - 0s 254us/step - loss: 0.0204 - accuracy: 0.9933\n",
            "Epoch 35/40\n",
            "600/600 [==============================] - 0s 247us/step - loss: 0.0145 - accuracy: 0.9950\n",
            "Epoch 36/40\n",
            "600/600 [==============================] - 0s 242us/step - loss: 0.0184 - accuracy: 0.9917\n",
            "Epoch 37/40\n",
            "600/600 [==============================] - 0s 253us/step - loss: 0.0109 - accuracy: 0.9983\n",
            "Epoch 38/40\n",
            "600/600 [==============================] - 0s 246us/step - loss: 0.0069 - accuracy: 1.0000\n",
            "Epoch 39/40\n",
            "600/600 [==============================] - 0s 246us/step - loss: 0.0063 - accuracy: 1.0000\n",
            "Epoch 40/40\n",
            "600/600 [==============================] - 0s 240us/step - loss: 0.0060 - accuracy: 1.0000\n",
            "150/150 [==============================] - 0s 409us/step\n",
            "\n",
            "Loss = 0.12100440283616384\n",
            "Test Accuracy = 0.9733333587646484\n"
          ],
          "name": "stdout"
        }
      ]
    },
    {
      "cell_type": "code",
      "metadata": {
        "id": "DWWU-QlPPBhv",
        "colab_type": "code",
        "colab": {
          "base_uri": "https://localhost:8080/",
          "height": 1000
        },
        "outputId": "ea7c2b98-c66e-49bc-b018-bbcc9a01139c"
      },
      "source": [
        "happyModel.summary()\n",
        "plot_model(happyModel, to_file='HappyModel.png')\n",
        "SVG(model_to_dot(happyModel).create(prog='dot', format='svg'))"
      ],
      "execution_count": 12,
      "outputs": [
        {
          "output_type": "stream",
          "text": [
            "Model: \"Happy_Model\"\n",
            "_________________________________________________________________\n",
            "Layer (type)                 Output Shape              Param #   \n",
            "=================================================================\n",
            "input_5 (InputLayer)         (None, 64, 64, 3)         0         \n",
            "_________________________________________________________________\n",
            "zero_padding2d_5 (ZeroPaddin (None, 70, 70, 3)         0         \n",
            "_________________________________________________________________\n",
            "conv0 (Conv2D)               (None, 64, 64, 32)        4736      \n",
            "_________________________________________________________________\n",
            "bn0 (BatchNormalization)     (None, 64, 64, 32)        128       \n",
            "_________________________________________________________________\n",
            "activation_5 (Activation)    (None, 64, 64, 32)        0         \n",
            "_________________________________________________________________\n",
            "MaxPool (MaxPooling2D)       (None, 32, 32, 32)        0         \n",
            "_________________________________________________________________\n",
            "flatten_5 (Flatten)          (None, 32768)             0         \n",
            "_________________________________________________________________\n",
            "fc (Dense)                   (None, 1)                 32769     \n",
            "=================================================================\n",
            "Total params: 37,633\n",
            "Trainable params: 37,569\n",
            "Non-trainable params: 64\n",
            "_________________________________________________________________\n"
          ],
          "name": "stdout"
        },
        {
          "output_type": "execute_result",
          "data": {
            "text/plain": [
              "<IPython.core.display.SVG object>"
            ],
            "image/svg+xml": "<svg height=\"741pt\" viewBox=\"0.00 0.00 234.00 556.00\" width=\"312pt\" xmlns=\"http://www.w3.org/2000/svg\" xmlns:xlink=\"http://www.w3.org/1999/xlink\">\n<g class=\"graph\" id=\"graph0\" transform=\"scale(1.3333 1.3333) rotate(0) translate(4 552)\">\n<title>G</title>\n<polygon fill=\"#ffffff\" points=\"-4,4 -4,-552 230,-552 230,4 -4,4\" stroke=\"transparent\"/>\n<!-- 139695140409072 -->\n<g class=\"node\" id=\"node1\">\n<title>139695140409072</title>\n<polygon fill=\"none\" points=\"46.5,-511.5 46.5,-547.5 179.5,-547.5 179.5,-511.5 46.5,-511.5\" stroke=\"#000000\"/>\n<text fill=\"#000000\" font-family=\"Times,serif\" font-size=\"14.00\" text-anchor=\"middle\" x=\"113\" y=\"-525.8\">input_5: InputLayer</text>\n</g>\n<!-- 139695138176360 -->\n<g class=\"node\" id=\"node2\">\n<title>139695138176360</title>\n<polygon fill=\"none\" points=\"0,-438.5 0,-474.5 226,-474.5 226,-438.5 0,-438.5\" stroke=\"#000000\"/>\n<text fill=\"#000000\" font-family=\"Times,serif\" font-size=\"14.00\" text-anchor=\"middle\" x=\"113\" y=\"-452.8\">zero_padding2d_5: ZeroPadding2D</text>\n</g>\n<!-- 139695140409072&#45;&gt;139695138176360 -->\n<g class=\"edge\" id=\"edge1\">\n<title>139695140409072-&gt;139695138176360</title>\n<path d=\"M113,-511.4551C113,-503.3828 113,-493.6764 113,-484.6817\" fill=\"none\" stroke=\"#000000\"/>\n<polygon fill=\"#000000\" points=\"116.5001,-484.5903 113,-474.5904 109.5001,-484.5904 116.5001,-484.5903\" stroke=\"#000000\"/>\n</g>\n<!-- 139695138176864 -->\n<g class=\"node\" id=\"node3\">\n<title>139695138176864</title>\n<polygon fill=\"none\" points=\"58,-365.5 58,-401.5 168,-401.5 168,-365.5 58,-365.5\" stroke=\"#000000\"/>\n<text fill=\"#000000\" font-family=\"Times,serif\" font-size=\"14.00\" text-anchor=\"middle\" x=\"113\" y=\"-379.8\">conv0: Conv2D</text>\n</g>\n<!-- 139695138176360&#45;&gt;139695138176864 -->\n<g class=\"edge\" id=\"edge2\">\n<title>139695138176360-&gt;139695138176864</title>\n<path d=\"M113,-438.4551C113,-430.3828 113,-420.6764 113,-411.6817\" fill=\"none\" stroke=\"#000000\"/>\n<polygon fill=\"#000000\" points=\"116.5001,-411.5903 113,-401.5904 109.5001,-411.5904 116.5001,-411.5903\" stroke=\"#000000\"/>\n</g>\n<!-- 139695139142288 -->\n<g class=\"node\" id=\"node4\">\n<title>139695139142288</title>\n<polygon fill=\"none\" points=\"32.5,-292.5 32.5,-328.5 193.5,-328.5 193.5,-292.5 32.5,-292.5\" stroke=\"#000000\"/>\n<text fill=\"#000000\" font-family=\"Times,serif\" font-size=\"14.00\" text-anchor=\"middle\" x=\"113\" y=\"-306.8\">bn0: BatchNormalization</text>\n</g>\n<!-- 139695138176864&#45;&gt;139695139142288 -->\n<g class=\"edge\" id=\"edge3\">\n<title>139695138176864-&gt;139695139142288</title>\n<path d=\"M113,-365.4551C113,-357.3828 113,-347.6764 113,-338.6817\" fill=\"none\" stroke=\"#000000\"/>\n<polygon fill=\"#000000\" points=\"116.5001,-338.5903 113,-328.5904 109.5001,-338.5904 116.5001,-338.5903\" stroke=\"#000000\"/>\n</g>\n<!-- 139695139142400 -->\n<g class=\"node\" id=\"node5\">\n<title>139695139142400</title>\n<polygon fill=\"none\" points=\"36,-219.5 36,-255.5 190,-255.5 190,-219.5 36,-219.5\" stroke=\"#000000\"/>\n<text fill=\"#000000\" font-family=\"Times,serif\" font-size=\"14.00\" text-anchor=\"middle\" x=\"113\" y=\"-233.8\">activation_5: Activation</text>\n</g>\n<!-- 139695139142288&#45;&gt;139695139142400 -->\n<g class=\"edge\" id=\"edge4\">\n<title>139695139142288-&gt;139695139142400</title>\n<path d=\"M113,-292.4551C113,-284.3828 113,-274.6764 113,-265.6817\" fill=\"none\" stroke=\"#000000\"/>\n<polygon fill=\"#000000\" points=\"116.5001,-265.5903 113,-255.5904 109.5001,-265.5904 116.5001,-265.5903\" stroke=\"#000000\"/>\n</g>\n<!-- 139695139115472 -->\n<g class=\"node\" id=\"node6\">\n<title>139695139115472</title>\n<polygon fill=\"none\" points=\"29.5,-146.5 29.5,-182.5 196.5,-182.5 196.5,-146.5 29.5,-146.5\" stroke=\"#000000\"/>\n<text fill=\"#000000\" font-family=\"Times,serif\" font-size=\"14.00\" text-anchor=\"middle\" x=\"113\" y=\"-160.8\">MaxPool: MaxPooling2D</text>\n</g>\n<!-- 139695139142400&#45;&gt;139695139115472 -->\n<g class=\"edge\" id=\"edge5\">\n<title>139695139142400-&gt;139695139115472</title>\n<path d=\"M113,-219.4551C113,-211.3828 113,-201.6764 113,-192.6817\" fill=\"none\" stroke=\"#000000\"/>\n<polygon fill=\"#000000\" points=\"116.5001,-192.5903 113,-182.5904 109.5001,-192.5904 116.5001,-192.5903\" stroke=\"#000000\"/>\n</g>\n<!-- 139695139115416 -->\n<g class=\"node\" id=\"node7\">\n<title>139695139115416</title>\n<polygon fill=\"none\" points=\"56.5,-73.5 56.5,-109.5 169.5,-109.5 169.5,-73.5 56.5,-73.5\" stroke=\"#000000\"/>\n<text fill=\"#000000\" font-family=\"Times,serif\" font-size=\"14.00\" text-anchor=\"middle\" x=\"113\" y=\"-87.8\">flatten_5: Flatten</text>\n</g>\n<!-- 139695139115472&#45;&gt;139695139115416 -->\n<g class=\"edge\" id=\"edge6\">\n<title>139695139115472-&gt;139695139115416</title>\n<path d=\"M113,-146.4551C113,-138.3828 113,-128.6764 113,-119.6817\" fill=\"none\" stroke=\"#000000\"/>\n<polygon fill=\"#000000\" points=\"116.5001,-119.5903 113,-109.5904 109.5001,-119.5904 116.5001,-119.5903\" stroke=\"#000000\"/>\n</g>\n<!-- 139695139117712 -->\n<g class=\"node\" id=\"node8\">\n<title>139695139117712</title>\n<polygon fill=\"none\" points=\"78,-.5 78,-36.5 148,-36.5 148,-.5 78,-.5\" stroke=\"#000000\"/>\n<text fill=\"#000000\" font-family=\"Times,serif\" font-size=\"14.00\" text-anchor=\"middle\" x=\"113\" y=\"-14.8\">fc: Dense</text>\n</g>\n<!-- 139695139115416&#45;&gt;139695139117712 -->\n<g class=\"edge\" id=\"edge7\">\n<title>139695139115416-&gt;139695139117712</title>\n<path d=\"M113,-73.4551C113,-65.3828 113,-55.6764 113,-46.6817\" fill=\"none\" stroke=\"#000000\"/>\n<polygon fill=\"#000000\" points=\"116.5001,-46.5903 113,-36.5904 109.5001,-46.5904 116.5001,-46.5903\" stroke=\"#000000\"/>\n</g>\n</g>\n</svg>"
          },
          "metadata": {
            "tags": []
          },
          "execution_count": 12
        }
      ]
    }
  ]
}